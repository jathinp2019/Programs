{
 "cells": [
  {
   "cell_type": "markdown",
   "metadata": {
    "cell_id": "00000-c35d6f33-4c8e-4bf5-8cad-88f2b327ac49",
    "deepnote_cell_type": "markdown",
    "tags": []
   },
   "source": [
    "# Imported Required Data and Libraries"
   ]
  },
  {
   "cell_type": "code",
   "execution_count": 1,
   "metadata": {
    "cell_id": "00001-a7d10588-8f44-4a24-996d-98892ebdb823",
    "deepnote_cell_type": "code",
    "deepnote_to_be_reexecuted": false,
    "execution_millis": 268,
    "execution_start": 1637138854332,
    "source_hash": "cdb7018d",
    "tags": []
   },
   "outputs": [
    {
     "data": {
      "text/html": [
       "<div>\n",
       "<style scoped>\n",
       "    .dataframe tbody tr th:only-of-type {\n",
       "        vertical-align: middle;\n",
       "    }\n",
       "\n",
       "    .dataframe tbody tr th {\n",
       "        vertical-align: top;\n",
       "    }\n",
       "\n",
       "    .dataframe thead th {\n",
       "        text-align: right;\n",
       "    }\n",
       "</style>\n",
       "<table border=\"1\" class=\"dataframe\">\n",
       "  <thead>\n",
       "    <tr style=\"text-align: right;\">\n",
       "      <th></th>\n",
       "      <th>Open</th>\n",
       "      <th>High</th>\n",
       "      <th>Low</th>\n",
       "      <th>Close</th>\n",
       "      <th>Adj Close</th>\n",
       "      <th>Volume</th>\n",
       "    </tr>\n",
       "    <tr>\n",
       "      <th>Date</th>\n",
       "      <th></th>\n",
       "      <th></th>\n",
       "      <th></th>\n",
       "      <th></th>\n",
       "      <th></th>\n",
       "      <th></th>\n",
       "    </tr>\n",
       "  </thead>\n",
       "  <tbody>\n",
       "    <tr>\n",
       "      <th>2014-09-17</th>\n",
       "      <td>0.000293</td>\n",
       "      <td>0.000299</td>\n",
       "      <td>0.000260</td>\n",
       "      <td>0.000268</td>\n",
       "      <td>0.000268</td>\n",
       "      <td>1463600.0</td>\n",
       "    </tr>\n",
       "    <tr>\n",
       "      <th>2014-09-18</th>\n",
       "      <td>0.000268</td>\n",
       "      <td>0.000325</td>\n",
       "      <td>0.000267</td>\n",
       "      <td>0.000298</td>\n",
       "      <td>0.000298</td>\n",
       "      <td>2215910.0</td>\n",
       "    </tr>\n",
       "    <tr>\n",
       "      <th>2014-09-19</th>\n",
       "      <td>0.000298</td>\n",
       "      <td>0.000307</td>\n",
       "      <td>0.000275</td>\n",
       "      <td>0.000277</td>\n",
       "      <td>0.000277</td>\n",
       "      <td>883563.0</td>\n",
       "    </tr>\n",
       "    <tr>\n",
       "      <th>2014-09-20</th>\n",
       "      <td>0.000276</td>\n",
       "      <td>0.000310</td>\n",
       "      <td>0.000267</td>\n",
       "      <td>0.000292</td>\n",
       "      <td>0.000292</td>\n",
       "      <td>993004.0</td>\n",
       "    </tr>\n",
       "    <tr>\n",
       "      <th>2014-09-21</th>\n",
       "      <td>0.000293</td>\n",
       "      <td>0.000299</td>\n",
       "      <td>0.000284</td>\n",
       "      <td>0.000288</td>\n",
       "      <td>0.000288</td>\n",
       "      <td>539140.0</td>\n",
       "    </tr>\n",
       "  </tbody>\n",
       "</table>\n",
       "</div>"
      ],
      "text/plain": [
       "                Open      High       Low     Close  Adj Close     Volume\n",
       "Date                                                                    \n",
       "2014-09-17  0.000293  0.000299  0.000260  0.000268   0.000268  1463600.0\n",
       "2014-09-18  0.000268  0.000325  0.000267  0.000298   0.000298  2215910.0\n",
       "2014-09-19  0.000298  0.000307  0.000275  0.000277   0.000277   883563.0\n",
       "2014-09-20  0.000276  0.000310  0.000267  0.000292   0.000292   993004.0\n",
       "2014-09-21  0.000293  0.000299  0.000284  0.000288   0.000288   539140.0"
      ]
     },
     "execution_count": 1,
     "metadata": {},
     "output_type": "execute_result"
    }
   ],
   "source": [
    "import pandas as pd\n",
    "df = pd.read_csv(\n",
    "    filepath_or_buffer = '../Data/DOGE-USD.csv',\n",
    "    index_col = 0,\n",
    "    parse_dates = [0]\n",
    ")\n",
    "df.head()"
   ]
  },
  {
   "cell_type": "code",
   "execution_count": 2,
   "metadata": {
    "cell_id": "00003-f8e6a7b2-6425-430b-8cfe-37ee2bf1b15d",
    "deepnote_cell_type": "code",
    "deepnote_to_be_reexecuted": false,
    "execution_millis": 51680201,
    "execution_start": 1637138854666,
    "source_hash": "14f60b8f",
    "tags": []
   },
   "outputs": [
    {
     "data": {
      "text/plain": [
       "(2501, 6)"
      ]
     },
     "execution_count": 2,
     "metadata": {},
     "output_type": "execute_result"
    }
   ],
   "source": [
    "df.shape"
   ]
  },
  {
   "cell_type": "markdown",
   "metadata": {
    "cell_id": "00004-62667639-82da-4a3b-9a76-64a08c0521a2",
    "deepnote_cell_type": "markdown",
    "tags": []
   },
   "source": [
    "We can see that we have 2501 data points and 7 features about each."
   ]
  },
  {
   "cell_type": "markdown",
   "metadata": {
    "cell_id": "00008-3310af01-a196-47db-9362-3e49ec0fa87f",
    "deepnote_cell_type": "markdown",
    "tags": []
   },
   "source": [
    "# Null values"
   ]
  },
  {
   "cell_type": "code",
   "execution_count": 3,
   "metadata": {
    "cell_id": "00007-a039ad4a-1f9d-4ca0-83b1-dcfb8fb72f95",
    "deepnote_cell_type": "code",
    "deepnote_to_be_reexecuted": false,
    "execution_millis": 1020,
    "execution_start": 1637138865740,
    "source_hash": "731c5e71",
    "tags": []
   },
   "outputs": [
    {
     "data": {
      "text/plain": [
       "0    2497\n",
       "6       4\n",
       "dtype: int64"
      ]
     },
     "execution_count": 3,
     "metadata": {},
     "output_type": "execute_result"
    }
   ],
   "source": [
    "df.apply(lambda l: l.isna().sum(), axis = 1).value_counts()"
   ]
  },
  {
   "cell_type": "markdown",
   "metadata": {
    "cell_id": "00006-10c830f2-86ff-4c78-96cb-8a9908bba98b",
    "deepnote_cell_type": "markdown",
    "tags": []
   },
   "source": [
    "In the above code cell, we compute the number of NaN values across each data point.  \n",
    "We group the same to see that we have 4 data points with 6 NaNs which means that we can get rid of those.  "
   ]
  },
  {
   "cell_type": "code",
   "execution_count": 4,
   "metadata": {
    "cell_id": "00010-b3d39394-3bdb-4760-84bf-e39fd8d8d15f",
    "deepnote_cell_type": "code",
    "deepnote_to_be_reexecuted": false,
    "execution_millis": 10,
    "execution_start": 1637138855934,
    "source_hash": "801fc19b",
    "tags": []
   },
   "outputs": [
    {
     "data": {
      "text/plain": [
       "(2497, 6)"
      ]
     },
     "execution_count": 4,
     "metadata": {},
     "output_type": "execute_result"
    }
   ],
   "source": [
    "df.dropna(inplace = True)\n",
    "df.shape"
   ]
  },
  {
   "cell_type": "markdown",
   "metadata": {
    "cell_id": "00012-450502b0-190f-4c03-9e81-5182f68424ed",
    "deepnote_cell_type": "markdown",
    "tags": []
   },
   "source": [
    "That leaves us with 2497 data points.  "
   ]
  },
  {
   "cell_type": "markdown",
   "metadata": {
    "cell_id": "00004-b2ef6e45-ad56-4b84-aaf7-1c886d5e2487",
    "deepnote_cell_type": "markdown",
    "tags": []
   },
   "source": [
    "## Adj Close"
   ]
  },
  {
   "cell_type": "code",
   "execution_count": 5,
   "metadata": {
    "cell_id": "00004-0f029a59-3129-4aae-9f36-3a3484ba9039",
    "deepnote_cell_type": "code",
    "deepnote_to_be_reexecuted": false,
    "execution_millis": 51681048,
    "execution_start": 1637138856014,
    "source_hash": "3cb38c75",
    "tags": []
   },
   "outputs": [
    {
     "data": {
      "text/plain": [
       "0"
      ]
     },
     "execution_count": 5,
     "metadata": {},
     "output_type": "execute_result"
    }
   ],
   "source": [
    "(df.Close != df['Adj Close']).sum()"
   ]
  },
  {
   "cell_type": "markdown",
   "metadata": {
    "cell_id": "00007-9e4ed61d-4e06-48f8-a487-41a848b99860",
    "deepnote_cell_type": "markdown",
    "tags": []
   },
   "source": [
    "As Adj Close and Close are just duplicates of each other, we can drop Adj Close from our feature list."
   ]
  },
  {
   "cell_type": "code",
   "execution_count": 6,
   "metadata": {
    "cell_id": "00013-6cf77755-a2ba-4148-af46-9f05fee87c21",
    "deepnote_cell_type": "code",
    "deepnote_to_be_reexecuted": false,
    "execution_millis": 132,
    "execution_start": 1637138856073,
    "source_hash": "18930342",
    "tags": []
   },
   "outputs": [
    {
     "data": {
      "text/html": [
       "<div>\n",
       "<style scoped>\n",
       "    .dataframe tbody tr th:only-of-type {\n",
       "        vertical-align: middle;\n",
       "    }\n",
       "\n",
       "    .dataframe tbody tr th {\n",
       "        vertical-align: top;\n",
       "    }\n",
       "\n",
       "    .dataframe thead th {\n",
       "        text-align: right;\n",
       "    }\n",
       "</style>\n",
       "<table border=\"1\" class=\"dataframe\">\n",
       "  <thead>\n",
       "    <tr style=\"text-align: right;\">\n",
       "      <th></th>\n",
       "      <th>Open</th>\n",
       "      <th>High</th>\n",
       "      <th>Low</th>\n",
       "      <th>Close</th>\n",
       "      <th>Volume</th>\n",
       "    </tr>\n",
       "    <tr>\n",
       "      <th>Date</th>\n",
       "      <th></th>\n",
       "      <th></th>\n",
       "      <th></th>\n",
       "      <th></th>\n",
       "      <th></th>\n",
       "    </tr>\n",
       "  </thead>\n",
       "  <tbody>\n",
       "    <tr>\n",
       "      <th>2014-09-17</th>\n",
       "      <td>0.000293</td>\n",
       "      <td>0.000299</td>\n",
       "      <td>0.000260</td>\n",
       "      <td>0.000268</td>\n",
       "      <td>1463600.0</td>\n",
       "    </tr>\n",
       "    <tr>\n",
       "      <th>2014-09-18</th>\n",
       "      <td>0.000268</td>\n",
       "      <td>0.000325</td>\n",
       "      <td>0.000267</td>\n",
       "      <td>0.000298</td>\n",
       "      <td>2215910.0</td>\n",
       "    </tr>\n",
       "    <tr>\n",
       "      <th>2014-09-19</th>\n",
       "      <td>0.000298</td>\n",
       "      <td>0.000307</td>\n",
       "      <td>0.000275</td>\n",
       "      <td>0.000277</td>\n",
       "      <td>883563.0</td>\n",
       "    </tr>\n",
       "    <tr>\n",
       "      <th>2014-09-20</th>\n",
       "      <td>0.000276</td>\n",
       "      <td>0.000310</td>\n",
       "      <td>0.000267</td>\n",
       "      <td>0.000292</td>\n",
       "      <td>993004.0</td>\n",
       "    </tr>\n",
       "    <tr>\n",
       "      <th>2014-09-21</th>\n",
       "      <td>0.000293</td>\n",
       "      <td>0.000299</td>\n",
       "      <td>0.000284</td>\n",
       "      <td>0.000288</td>\n",
       "      <td>539140.0</td>\n",
       "    </tr>\n",
       "  </tbody>\n",
       "</table>\n",
       "</div>"
      ],
      "text/plain": [
       "                Open      High       Low     Close     Volume\n",
       "Date                                                         \n",
       "2014-09-17  0.000293  0.000299  0.000260  0.000268  1463600.0\n",
       "2014-09-18  0.000268  0.000325  0.000267  0.000298  2215910.0\n",
       "2014-09-19  0.000298  0.000307  0.000275  0.000277   883563.0\n",
       "2014-09-20  0.000276  0.000310  0.000267  0.000292   993004.0\n",
       "2014-09-21  0.000293  0.000299  0.000284  0.000288   539140.0"
      ]
     },
     "execution_count": 6,
     "metadata": {},
     "output_type": "execute_result"
    }
   ],
   "source": [
    "df.drop(\n",
    "    columns = 'Adj Close',\n",
    "    inplace = True\n",
    ")\n",
    "df.head()"
   ]
  },
  {
   "cell_type": "code",
   "execution_count": 7,
   "metadata": {
    "cell_id": "00014-8b5881bb-c64d-48ae-b45f-5f8f0874edb7",
    "deepnote_cell_type": "code",
    "deepnote_to_be_reexecuted": false,
    "execution_millis": 83,
    "execution_start": 1637138856212,
    "source_hash": "de1e323c",
    "tags": []
   },
   "outputs": [
    {
     "name": "stdout",
     "output_type": "stream",
     "text": [
      "<class 'pandas.core.frame.DataFrame'>\n",
      "DatetimeIndex: 2497 entries, 2014-09-17 to 2021-07-22\n",
      "Data columns (total 5 columns):\n",
      " #   Column  Non-Null Count  Dtype  \n",
      "---  ------  --------------  -----  \n",
      " 0   Open    2497 non-null   float64\n",
      " 1   High    2497 non-null   float64\n",
      " 2   Low     2497 non-null   float64\n",
      " 3   Close   2497 non-null   float64\n",
      " 4   Volume  2497 non-null   float64\n",
      "dtypes: float64(5)\n",
      "memory usage: 117.0 KB\n"
     ]
    }
   ],
   "source": [
    "df.info()"
   ]
  },
  {
   "cell_type": "markdown",
   "metadata": {
    "cell_id": "00015-0b9e3bb6-5e08-414b-816c-cc4b6198ce9b",
    "deepnote_cell_type": "markdown",
    "tags": []
   },
   "source": [
    "Now that we have suitable datatypes for all our features, we can export the cleaned dataset."
   ]
  },
  {
   "cell_type": "markdown",
   "metadata": {
    "cell_id": "00015-042126b6-aa68-4192-ab9a-79d462412c34",
    "deepnote_cell_type": "markdown",
    "tags": []
   },
   "source": [
    "# Volume"
   ]
  },
  {
   "cell_type": "code",
   "execution_count": 8,
   "metadata": {
    "cell_id": "00016-ba259589-3d1d-4f97-9966-6965ee9a3198",
    "deepnote_cell_type": "code",
    "deepnote_to_be_reexecuted": false,
    "execution_millis": 118,
    "execution_start": 1637138856294,
    "source_hash": "52239d12",
    "tags": []
   },
   "outputs": [
    {
     "data": {
      "text/html": [
       "<div>\n",
       "<style scoped>\n",
       "    .dataframe tbody tr th:only-of-type {\n",
       "        vertical-align: middle;\n",
       "    }\n",
       "\n",
       "    .dataframe tbody tr th {\n",
       "        vertical-align: top;\n",
       "    }\n",
       "\n",
       "    .dataframe thead th {\n",
       "        text-align: right;\n",
       "    }\n",
       "</style>\n",
       "<table border=\"1\" class=\"dataframe\">\n",
       "  <thead>\n",
       "    <tr style=\"text-align: right;\">\n",
       "      <th></th>\n",
       "      <th>Open</th>\n",
       "      <th>High</th>\n",
       "      <th>Low</th>\n",
       "      <th>Close</th>\n",
       "    </tr>\n",
       "    <tr>\n",
       "      <th>Date</th>\n",
       "      <th></th>\n",
       "      <th></th>\n",
       "      <th></th>\n",
       "      <th></th>\n",
       "    </tr>\n",
       "  </thead>\n",
       "  <tbody>\n",
       "    <tr>\n",
       "      <th>2014-09-17</th>\n",
       "      <td>0.000293</td>\n",
       "      <td>0.000299</td>\n",
       "      <td>0.000260</td>\n",
       "      <td>0.000268</td>\n",
       "    </tr>\n",
       "    <tr>\n",
       "      <th>2014-09-18</th>\n",
       "      <td>0.000268</td>\n",
       "      <td>0.000325</td>\n",
       "      <td>0.000267</td>\n",
       "      <td>0.000298</td>\n",
       "    </tr>\n",
       "    <tr>\n",
       "      <th>2014-09-19</th>\n",
       "      <td>0.000298</td>\n",
       "      <td>0.000307</td>\n",
       "      <td>0.000275</td>\n",
       "      <td>0.000277</td>\n",
       "    </tr>\n",
       "    <tr>\n",
       "      <th>2014-09-20</th>\n",
       "      <td>0.000276</td>\n",
       "      <td>0.000310</td>\n",
       "      <td>0.000267</td>\n",
       "      <td>0.000292</td>\n",
       "    </tr>\n",
       "    <tr>\n",
       "      <th>2014-09-21</th>\n",
       "      <td>0.000293</td>\n",
       "      <td>0.000299</td>\n",
       "      <td>0.000284</td>\n",
       "      <td>0.000288</td>\n",
       "    </tr>\n",
       "  </tbody>\n",
       "</table>\n",
       "</div>"
      ],
      "text/plain": [
       "                Open      High       Low     Close\n",
       "Date                                              \n",
       "2014-09-17  0.000293  0.000299  0.000260  0.000268\n",
       "2014-09-18  0.000268  0.000325  0.000267  0.000298\n",
       "2014-09-19  0.000298  0.000307  0.000275  0.000277\n",
       "2014-09-20  0.000276  0.000310  0.000267  0.000292\n",
       "2014-09-21  0.000293  0.000299  0.000284  0.000288"
      ]
     },
     "execution_count": 8,
     "metadata": {},
     "output_type": "execute_result"
    }
   ],
   "source": [
    "df.drop(\n",
    "    columns = 'Volume',\n",
    "    inplace = True\n",
    ")\n",
    "df.head()"
   ]
  },
  {
   "cell_type": "markdown",
   "metadata": {
    "cell_id": "00017-53c34eea-40f8-4fce-8c03-c5d15e15454c",
    "deepnote_cell_type": "markdown",
    "tags": []
   },
   "source": [
    "\n",
    "OHLC analysis is a stratergy devised to forecast and aquire a prediction framework for open market data. The 'Volume' feature shows the amount traded in a single day and is innaplicable to OHLC analysis. "
   ]
  },
  {
   "cell_type": "markdown",
   "metadata": {
    "cell_id": "00018-7311383c-12e3-4b51-97ec-52b2ce676b83",
    "deepnote_cell_type": "markdown",
    "tags": []
   },
   "source": [
    "# Clean Dataset"
   ]
  },
  {
   "cell_type": "code",
   "execution_count": 9,
   "metadata": {
    "cell_id": "00016-70903bbc-f07e-444a-94c6-5265bd611e62",
    "deepnote_cell_type": "code",
    "deepnote_to_be_reexecuted": false,
    "execution_millis": 92,
    "execution_start": 1637138856411,
    "source_hash": "be271037",
    "tags": []
   },
   "outputs": [],
   "source": [
    "df.to_csv(\n",
    "    path_or_buf = '../Data/Clean_DogeCoin.csv', \n",
    "    index = True\n",
    ")"
   ]
  },
  {
   "cell_type": "markdown",
   "metadata": {
    "cell_id": "00020-9496566e-206d-4e7d-89d5-e315548c58f0",
    "deepnote_cell_type": "markdown",
    "tags": []
   },
   "source": [
    "We store the dataset back to the Data folder so that we can import and use the same for the ML model."
   ]
  }
 ],
 "metadata": {
  "deepnote": {
   "is_reactive": false
  },
  "deepnote_execution_queue": [],
  "deepnote_notebook_id": "c783cbea-777b-4685-9025-79ca68577cca",
  "hide_input": false,
  "kernelspec": {
   "display_name": "Python 3",
   "language": "python",
   "name": "python3"
  },
  "language_info": {
   "codemirror_mode": {
    "name": "ipython",
    "version": 3
   },
   "file_extension": ".py",
   "mimetype": "text/x-python",
   "name": "python",
   "nbconvert_exporter": "python",
   "pygments_lexer": "ipython3",
   "version": "3.10.4 (tags/v3.10.4:9d38120, Mar 23 2022, 23:13:41) [MSC v.1929 64 bit (AMD64)]"
  },
  "latex_envs": {
   "LaTeX_envs_menu_present": true,
   "autoclose": false,
   "autocomplete": true,
   "bibliofile": "biblio.bib",
   "cite_by": "apalike",
   "current_citInitial": 1,
   "eqLabelWithNumbers": true,
   "eqNumInitial": 1,
   "hotkeys": {
    "equation": "Ctrl-E",
    "itemize": "Ctrl-I"
   },
   "labels_anchors": false,
   "latex_user_defs": false,
   "report_style_numbering": false,
   "user_envs_cfg": false
  },
  "varInspector": {
   "cols": {
    "lenName": 16,
    "lenType": 16,
    "lenVar": 40
   },
   "kernels_config": {
    "python": {
     "delete_cmd_postfix": "",
     "delete_cmd_prefix": "del ",
     "library": "var_list.py",
     "varRefreshCmd": "print(var_dic_list())"
    },
    "r": {
     "delete_cmd_postfix": ") ",
     "delete_cmd_prefix": "rm(",
     "library": "var_list.r",
     "varRefreshCmd": "cat(var_dic_list()) "
    }
   },
   "types_to_exclude": [
    "module",
    "function",
    "builtin_function_or_method",
    "instance",
    "_Feature"
   ],
   "window_display": false
  },
  "vscode": {
   "interpreter": {
    "hash": "26de051ba29f2982a8de78e945f0abaf191376122a1563185a90213a26c5da77"
   }
  }
 },
 "nbformat": 4,
 "nbformat_minor": 2
}
