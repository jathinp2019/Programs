{
  "nbformat": 4,
  "nbformat_minor": 0,
  "metadata": {
    "colab": {
      "provenance": []
    },
    "kernelspec": {
      "name": "python3",
      "display_name": "Python 3"
    },
    "language_info": {
      "name": "python"
    }
  },
  "cells": [
    {
      "cell_type": "code",
      "execution_count": null,
      "metadata": {
        "colab": {
          "base_uri": "https://localhost:8080/"
        },
        "id": "-w0A_AT5NpfK",
        "outputId": "49c7acc9-fcc2-49ee-c8a8-9126fbb279f5"
      },
      "outputs": [
        {
          "output_type": "stream",
          "name": "stdout",
          "text": [
            "[2, 1, 4, 5, 3, 8, 7]\n",
            "[3, 4, 5, 6, 7, 9, 10]\n",
            "[0, 1, 4, 6, 2, 3, 5]\n",
            "The following activities are selected\n",
            "0 2 3 5 "
          ]
        }
      ],
      "source": [
        "def printMaxActivities(s, f):\n",
        "\tn = len(f)\n",
        "\tprint(\"The following activities are selected\")\n",
        "\ti = 0\n",
        "\tprint(i , end=' ')\n",
        "\tfor j in range(1,n):\n",
        "\t\tif s[j] >= f[i]:\n",
        "\t\t\tprint(j, end=' ')\n",
        "\t\t\ti = j\n",
        "\n",
        "\n",
        "def bubblesort(f,s,a):\n",
        "  swapped = False\n",
        "  for n in range(len(f)-1, 0, -1):\n",
        "    for i in range(n):\n",
        "      if f[i] > f[i + 1]:\n",
        "        swapped = True\n",
        "        f[i], f[i + 1] = f[i + 1], f[i]\t\n",
        "        s[i], s[i + 1] = s[i + 1], s[i]\t\n",
        "        a[i], a[i + 1] = a[i + 1], a[i]\t\n",
        "    if not swapped:\n",
        "      return\n",
        "\n",
        "s = [2, 1, 3, 8, 4, 7,5]\n",
        "f = [3, 4, 7, 9, 5, 10,6]\n",
        "a = [0,1,2,3,4,5,6]\n",
        "\n",
        "bubblesort(f,s,a)\n",
        "print(s)\n",
        "print(f)\n",
        "print(a)\n",
        "printMaxActivities(s, f)\n",
        "\n",
        "\n"
      ]
    },
    {
      "cell_type": "code",
      "source": [],
      "metadata": {
        "id": "y7DD2-TjUCvA"
      },
      "execution_count": null,
      "outputs": []
    }
  ]
}