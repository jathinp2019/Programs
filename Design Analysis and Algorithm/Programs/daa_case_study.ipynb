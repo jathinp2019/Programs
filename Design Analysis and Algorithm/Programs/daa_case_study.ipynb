{
  "nbformat": 4,
  "nbformat_minor": 0,
  "metadata": {
    "colab": {
      "provenance": []
    },
    "kernelspec": {
      "name": "python3",
      "display_name": "Python 3"
    },
    "language_info": {
      "name": "python"
    }
  },
  "cells": [
    {
      "cell_type": "code",
      "source": [
        "import pandas as pd\n",
        "import numpy as np"
      ],
      "metadata": {
        "id": "GTX12Ki-eNeI"
      },
      "execution_count": null,
      "outputs": []
    },
    {
      "cell_type": "code",
      "execution_count": null,
      "metadata": {
        "colab": {
          "base_uri": "https://localhost:8080/"
        },
        "id": "7VElix2m6xVK",
        "outputId": "5435b189-3179-47e0-8842-cb14048c6624"
      },
      "outputs": [
        {
          "output_type": "stream",
          "name": "stdout",
          "text": [
            "[1.4285714285714286, 2.1, 5.0, 5.25, 6.666666666666667, 6.666666666666667, 10.0, 11.0, 12.75, 16.666666666666668]\n",
            "[0, 10, 4, 17, 7, 12, 22, 22, 15, 1]\n",
            "[7, 20, 6, 21, 10, 15, 24, 23, 19, 4]\n",
            "['n7', 'n4', 'n1', 'n9', 'n2', 'n10', 'n5', 'n6', 'n8', 'n3']\n",
            "THE SCHEDULING OF NURSES IS ['n7', 'No', 'No', 'No', 'No', 'No', 'No', 'No', 'No', 'n3', 'No', 'No', 'No', 'No', 'No', 'No', 'No', 'No', 'No', 'No', 'No', 'No', 'No', 'No']\n",
            "THE NUMBER OF NURSES THAT CAN BE ASSIGNED ARE  2  AND THE SALARY IS  60\n"
          ]
        }
      ],
      "source": [
        "Nurse = [\"n1\",\"n2\",\"n3\",\"n4\",\"n5\",\"n6\",\"n7\",\"n8\",\"n9\",\"n10\"]\n",
        "Start = [4,7,1,10,22,22,0,15,17,12]\n",
        "End = [6,10,4,20,24,23,7,19,21,15]\n",
        "Salary = [10,20,50,21,20,11,10,51,21,20]\n",
        "min=10000000000000000000000\n",
        "max=0\n",
        "for i in End:\n",
        "  if i>max:\n",
        "    max=i\n",
        "final=[\"No\"]*(max)\n",
        "ratio=[]\n",
        "for i in range(0,len(Salary)):\n",
        "  duration=(End[i]-Start[i])\n",
        "  ratio.append(Salary[i]/duration)\n",
        "\n",
        "\n",
        "for i in range(0,len(ratio)):\n",
        "  for j in range(0,len(ratio)-i-1):\n",
        "    if ratio[j]>ratio[j+1]:\n",
        "      ratio[j],ratio[j+1]=ratio[j+1],ratio[j]\n",
        "      Nurse[j],Nurse[j+1]=Nurse[j+1],Nurse[j]\n",
        "      Salary[j],Salary[j+1]=Salary[j+1],Salary[j]\n",
        "      Start[j],Start[j+1]=Start[j+1],Start[j]\n",
        "      End[j],End[j+1]=End[j+1],End[j]\n",
        "\n",
        "print(ratio)\n",
        "print(Start)\n",
        "print(End)\n",
        "print(Nurse)\n",
        "k=1\n",
        "sal=0\n",
        "for i in range(0,len(ratio)):\n",
        "  if Start[i]<=k and End[i]>=k:\n",
        "    final[i]=Nurse[i]\n",
        "    sal+=Salary[i]\n",
        "  \n",
        "c=0\n",
        "for i in final:\n",
        "  if i!='No':\n",
        "    c=c+1\n",
        "print(\"THE SCHEDULING OF NURSES IS\",final)\n",
        "print(\"THE NUMBER OF NURSES THAT CAN BE ASSIGNED ARE \",c,\" AND THE SALARY IS \",sal)"
      ]
    },
    {
      "cell_type": "code",
      "source": [
        "Nurse = [\"n1\",\"n2\",\"n3\",\"n4\",\"n5\",\"n6\",\"n7\",\"n8\",\"n9\",\"n10\"]\n",
        "Start = [4,7,1,10,22,22,0,15,17,12]\n",
        "End = [6,10,4,20,24,23,7,19,21,15]\n",
        "Salary = [10,20,50,21,20,11,10,51,21,20]\n",
        "min=10000000000000000000000\n",
        "minsal = 0\n",
        "pointer = 0\n",
        "\n",
        "l = len(Nurse)\n",
        "timing =[]\n",
        "for i in range(0,24):\n",
        "  timing.append(i)\n",
        "\n",
        "matrix = np.zeros((len(timing),l)).astype(int)\n",
        "\n",
        "for i in range(l):\n",
        "  for j in range(Start[i],End[i]):\n",
        "    matrix[j][i] = 1 \n",
        "\n",
        "print(matrix)\n",
        "\n",
        "shift = []\n",
        "cp = []\n",
        "for i in range(23,-1,-1):\n",
        "  for j in range(l):\n",
        "    if(matrix[i][j]==1):\n",
        "      cp.append(j)\n",
        "\n",
        "  for x in cp:\n",
        "    if(Salary[x]<min):\n",
        "      min = Salary[x]\n",
        "      pointer = x\n",
        "\n",
        "  shift.append(Nurse[pointer])\n",
        "  minsal += Salary[x]\n",
        "\n",
        "  for y in range(0,24):\n",
        "    matrix[y][pointer] = 0\n",
        "\n",
        "  cp = []\n",
        "  min=10000000000000000000000\n",
        "\n",
        "res = [*set(shift)]\n",
        "print(\"Nurses in order: \", res)\n",
        "print(minsal)"
      ],
      "metadata": {
        "colab": {
          "base_uri": "https://localhost:8080/"
        },
        "id": "UCS_v468cAoz",
        "outputId": "d1c1f9d0-1179-4f05-bf46-466dd7df3e41"
      },
      "execution_count": null,
      "outputs": [
        {
          "output_type": "stream",
          "name": "stdout",
          "text": [
            "[[0 0 0 0 0 0 1 0 0 0]\n",
            " [0 0 1 0 0 0 1 0 0 0]\n",
            " [0 0 1 0 0 0 1 0 0 0]\n",
            " [0 0 1 0 0 0 1 0 0 0]\n",
            " [1 0 0 0 0 0 1 0 0 0]\n",
            " [1 0 0 0 0 0 1 0 0 0]\n",
            " [0 0 0 0 0 0 1 0 0 0]\n",
            " [0 1 0 0 0 0 0 0 0 0]\n",
            " [0 1 0 0 0 0 0 0 0 0]\n",
            " [0 1 0 0 0 0 0 0 0 0]\n",
            " [0 0 0 1 0 0 0 0 0 0]\n",
            " [0 0 0 1 0 0 0 0 0 0]\n",
            " [0 0 0 1 0 0 0 0 0 1]\n",
            " [0 0 0 1 0 0 0 0 0 1]\n",
            " [0 0 0 1 0 0 0 0 0 1]\n",
            " [0 0 0 1 0 0 0 1 0 0]\n",
            " [0 0 0 1 0 0 0 1 0 0]\n",
            " [0 0 0 1 0 0 0 1 1 0]\n",
            " [0 0 0 1 0 0 0 1 1 0]\n",
            " [0 0 0 1 0 0 0 0 1 0]\n",
            " [0 0 0 0 0 0 0 0 1 0]\n",
            " [0 0 0 0 0 0 0 0 0 0]\n",
            " [0 0 0 0 1 1 0 0 0 0]\n",
            " [0 0 0 0 1 0 0 0 0 0]]\n",
            "Nurses in order:  ['n3', 'n1', 'n8', 'n4', 'n2', 'n9', 'n5', 'n10', 'n6', 'n7']\n",
            "678\n"
          ]
        }
      ]
    },
    {
      "cell_type": "code",
      "source": [],
      "metadata": {
        "id": "GavNS-4GlYm8"
      },
      "execution_count": null,
      "outputs": []
    }
  ]
}