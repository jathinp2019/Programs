{
  "nbformat": 4,
  "nbformat_minor": 0,
  "metadata": {
    "colab": {
      "provenance": []
    },
    "kernelspec": {
      "name": "python3",
      "display_name": "Python 3"
    },
    "language_info": {
      "name": "python"
    }
  },
  "cells": [
    {
      "cell_type": "code",
      "execution_count": null,
      "metadata": {
        "id": "JTiez46prRiC"
      },
      "outputs": [],
      "source": [
        "import time\n",
        "import random\n",
        "import numpy as np\n",
        "import matplotlib.pyplot as plt\n",
        "%matplotlib inline"
      ]
    },
    {
      "cell_type": "code",
      "source": [
        "array = []\n",
        "for i in range(0,1000):\n",
        "  array.append(random.randint(0,10000))\n",
        "for i in range(1,2000):\n",
        "  array.append(i)\n",
        "for i in range(0,3000):\n",
        "  array.append(random.randint(0,10000))\n",
        "print(len(array)) # The array has 4000 unsorted random elements and 1999 sorted elements"
      ],
      "metadata": {
        "colab": {
          "base_uri": "https://localhost:8080/"
        },
        "id": "Rp8HnJNhriz-",
        "outputId": "28df249e-705e-41f4-eca4-ed251c33ab3f"
      },
      "execution_count": null,
      "outputs": [
        {
          "output_type": "stream",
          "name": "stdout",
          "text": [
            "5999\n"
          ]
        }
      ]
    },
    {
      "cell_type": "code",
      "source": [
        "def insertionSort(array):\n",
        "  arr = array.copy()\n",
        "  n = len(arr)\n",
        "  for i in range(1,n):\n",
        "    key = arr[i]\n",
        "    j = i-1\n",
        "    while (j >=0 and arr[j]>key):\n",
        "      arr[j+1]=arr[j]\n",
        "      j=j-1\n",
        "    arr[j+1]=key\n",
        "  return arr"
      ],
      "metadata": {
        "id": "DkalJRZPsPsy"
      },
      "execution_count": null,
      "outputs": []
    },
    {
      "cell_type": "code",
      "source": [
        "def selectionSort(array):\n",
        "  arr=array.copy()\n",
        "  n = len(arr)\n",
        "  for i in range(n):\n",
        "    min = i \n",
        "    for j in range(i+1,n):\n",
        "      if arr[min] > arr[j]:\n",
        "        min=j\n",
        "    arr[i], arr[min] = arr[min],arr[i]\n",
        "  return arr"
      ],
      "metadata": {
        "id": "C6u8nx1AtMT4"
      },
      "execution_count": null,
      "outputs": []
    },
    {
      "cell_type": "code",
      "source": [
        "selection_start = time.time()\n",
        "sortedSelection = selectionSort(array)\n",
        "selection_end = time.time()\n"
      ],
      "metadata": {
        "id": "pF2ZgfCkt4Ud"
      },
      "execution_count": null,
      "outputs": []
    },
    {
      "cell_type": "code",
      "source": [
        "insertion_start = time.time()\n",
        "sortInsertion = insertionSort(array)\n",
        "insertion_end = time.time()\n"
      ],
      "metadata": {
        "id": "2aGS9eQvuq-X"
      },
      "execution_count": null,
      "outputs": []
    },
    {
      "cell_type": "code",
      "source": [
        "selectionTime = selection_end - selection_start\n",
        "insertionTime = insertion_end - insertion_start\n",
        "print(\"Time taken for selection sort is \",selectionTime,\" s\")\n",
        "print(\"Time taken for insertion sort is \",insertionTime,\" s\")"
      ],
      "metadata": {
        "colab": {
          "base_uri": "https://localhost:8080/"
        },
        "id": "jUk7vG83u8uO",
        "outputId": "b0165ecf-a4a4-4005-8bfe-57f200c24194"
      },
      "execution_count": null,
      "outputs": [
        {
          "output_type": "stream",
          "name": "stdout",
          "text": [
            "Time taken for selection sort is  1.5121538639068604  s\n",
            "Time taken for insertion sort is  1.355149507522583  s\n"
          ]
        }
      ]
    },
    {
      "cell_type": "code",
      "source": [
        "y = [selectionTime,insertionTime]\n",
        "x = np.arange(0,2)\n",
        "x_labels = [\"Selection Sort\", \"Insertion Sort\"]\n",
        "axis = plt.gca()\n",
        "fig , axis = plt.subplots(1,1)\n",
        "axis.set_xticks(x)\n",
        "axis.set_xticklabels(x_labels)\n",
        "plt.plot(x,y,marker='x', ls='')\n",
        "plt.title(\"Time Comparison\")\n",
        "plt.xlabel(\"Sorting method\")\n",
        "plt.ylabel(\"Time taken\")\n",
        "axis.set_ylim([0,10])\n",
        "plt.rcParams['figure.figsize'] = [2,2]\n",
        "plt.show()"
      ],
      "metadata": {
        "colab": {
          "base_uri": "https://localhost:8080/",
          "height": 331
        },
        "id": "z11Y9b63vbGB",
        "outputId": "6661f188-e6b8-4969-9bce-fcbbd1c1a781"
      },
      "execution_count": null,
      "outputs": [
        {
          "output_type": "display_data",
          "data": {
            "text/plain": [
              "<Figure size 144x144 with 1 Axes>"
            ],
            "image/png": "[encoded data removed]"
          },
          "metadata": {
            "needs_background": "light"
          }
        },
        {
          "output_type": "display_data",
          "data": {
            "text/plain": [
              "<Figure size 144x144 with 1 Axes>"
            ],
            "image/png": "[encoded data removed]"
          },
          "metadata": {
            "needs_background": "light"
          }
        }
      ]
    },
    {
      "cell_type": "code",
      "source": [],
      "metadata": {
        "id": "tN5uC5bcxwQA"
      },
      "execution_count": null,
      "outputs": []
    }
  ]
}