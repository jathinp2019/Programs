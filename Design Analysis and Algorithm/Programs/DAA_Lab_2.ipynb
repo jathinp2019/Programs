{
  "nbformat": 4,
  "nbformat_minor": 0,
  "metadata": {
    "colab": {
      "provenance": []
    },
    "kernelspec": {
      "name": "python3",
      "display_name": "Python 3"
    },
    "language_info": {
      "name": "python"
    }
  },
  "cells": [
    {
      "cell_type": "code",
      "execution_count": null,
      "metadata": {
        "id": "qEbyVRbJwNCh"
      },
      "outputs": [],
      "source": [
        "#heapify  Heap Sort\n",
        "\n",
        "def heapify(arr, n, i):\n",
        "\tlargest = i \n",
        "\tl = 2 * i + 1 \n",
        "\tr = 2 * i + 2 \n",
        "\n",
        "\tif l < n and arr[i] > arr[l]:\n",
        "\t\tlargest = l\n",
        "\n",
        "\tif r < n and arr[largest] > arr[r]:\n",
        "\t\tlargest = r\n",
        "\n",
        "\tif largest != i:\n",
        "\t\t(arr[i], arr[largest]) = (arr[largest], arr[i]) \n",
        "\n",
        "\t\theapify(arr, n, largest)\n",
        "\n",
        "def heapSort(arr):\n",
        "\tn = len(arr)\n",
        "\n",
        "\tfor i in range(n // 2 - 1, -1, -1):\n",
        "\t\theapify(arr, n, i)\n",
        "\n",
        "\tfor i in range(n - 1, 0, -1):\n",
        "\t\t(arr[i], arr[0]) = (arr[0], arr[i]) \n",
        "\t\theapify(arr, i, 0)\n"
      ]
    },
    {
      "cell_type": "code",
      "source": [
        "#Question 2\n",
        "ints = [7, 4, 6, 3, 9, 1]\n",
        "k = 6\n",
        "heapSort(ints)\n",
        "print(ints)\n",
        "if(k<=len(ints)):\n",
        "  print('k\\'th largest element in the list is', ints[k-1])\n",
        "else:\n",
        "  print(\"k is larger than array size\")\n",
        "\n"
      ],
      "metadata": {
        "colab": {
          "base_uri": "https://localhost:8080/"
        },
        "id": "64p7JpkYxUD6",
        "outputId": "097f94be-ce09-4301-bc7a-f24c6e11970b"
      },
      "execution_count": null,
      "outputs": [
        {
          "output_type": "stream",
          "name": "stdout",
          "text": [
            "[9, 7, 6, 4, 3, 1]\n",
            "k'th largest element in the list is 1\n"
          ]
        }
      ]
    },
    {
      "cell_type": "code",
      "source": [
        "# Question 5\n",
        "\n",
        "def chkPair(A, size, x):\n",
        "\tfor i in range(0, size - 1):\n",
        "\t\tfor j in range(i + 1, size):\n",
        "\t\t\tif (A[i] + A[j] == x):\n",
        "\t\t\t\tprint(f\"Pair with a given sum {x} is ({A[i]},{A[j]})\")\n",
        "\n",
        "\t\t\t\treturn 1\n",
        "\treturn 0\n",
        "\n",
        "A = [0, -1, 2, -3, 1]\n",
        "x = 0\n",
        "size = len(A)\n",
        "\n",
        "if (chkPair(A, size, x)):\n",
        "  print(\"Valid pair exists\")\n",
        "\n",
        "else:\n",
        "  print(f\"No valid pair exists for {x}\")\n"
      ],
      "metadata": {
        "id": "L93Hb9PuACmk",
        "colab": {
          "base_uri": "https://localhost:8080/"
        },
        "outputId": "646d625a-0762-4667-af61-e7e5d5bd6277"
      },
      "execution_count": null,
      "outputs": [
        {
          "output_type": "stream",
          "name": "stdout",
          "text": [
            "Pair with a given sum 0 is (-1,1)\n",
            "Valid pair exists\n"
          ]
        }
      ]
    },
    {
      "cell_type": "code",
      "source": [],
      "metadata": {
        "id": "G9jTxSssEV8q"
      },
      "execution_count": null,
      "outputs": []
    }
  ]
}