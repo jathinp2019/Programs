{
  "nbformat": 4,
  "nbformat_minor": 0,
  "metadata": {
    "colab": {
      "provenance": []
    },
    "kernelspec": {
      "name": "python3",
      "display_name": "Python 3"
    },
    "language_info": {
      "name": "python"
    }
  },
  "cells": [
    {
      "cell_type": "code",
      "execution_count": null,
      "metadata": {
        "colab": {
          "base_uri": "https://localhost:8080/"
        },
        "id": "UiKENZTzXZFs",
        "outputId": "592dbb7c-6e79-4628-f866-b7073411b2c5"
      },
      "outputs": [
        {
          "output_type": "stream",
          "name": "stdout",
          "text": [
            "68\n"
          ]
        }
      ],
      "source": [
        "class Heap():\n",
        "\tdef __init__(self):\n",
        "\t\tself.h = []\n",
        "\tdef parent(self, index):\n",
        "\t\tif index > 0:\n",
        "\t\t\treturn (index - 1) // 2\n",
        "\tdef lchild(self, index):\n",
        "\t\treturn (2 * index) + 1\n",
        "\tdef rchild(self, index):\n",
        "\t\treturn (2 * index) + 2\n",
        "\tdef addItem(self, item):\n",
        "\t\tself.h.append(item)\n",
        "\t\tif len(self.h) == 1:\n",
        "\t\t\treturn\n",
        "\t\tindex = len(self.h) - 1\n",
        "\t\tparent = self.parent(index)\n",
        "\n",
        "\t\t# Moves the item up if it is smaller than the parent\n",
        "\t\twhile index > 0 and item < self.h[parent]:\n",
        "\t\t\tself.h[index], self.h[parent] = self.h[parent], self.h[parent]\n",
        "\t\t\tindex = parent\n",
        "\t\t\tparent = self.parent(index)\n",
        "\n",
        "\tdef deleteItem(self):\n",
        "\n",
        "\t\t# Function to add an item to heap\n",
        "\t\tlength = len(self.h)\n",
        "\t\tself.h[0], self.h[length-1] = self.h[length-1], self.h[0]\n",
        "\t\tdeleted = self.h.pop()\n",
        "\n",
        "\t\t# Since root will be violating heap property\n",
        "\t\t# Call moveDownHeapify() to restore heap property\n",
        "\t\tself.moveDownHeapify(0)\n",
        "\n",
        "\t\treturn deleted\n",
        "\n",
        "\tdef moveDownHeapify(self, index):\n",
        "\n",
        "\t\t# Function to make the items follow Heap property\n",
        "\t\t# Compares the value with the children and moves item down\n",
        "\n",
        "\t\tlc, rc = self.lchild(index), self.rchild(index)\n",
        "\t\tlength, smallest = len(self.h), index\n",
        "\n",
        "\t\tif lc < length and self.h[lc] <= self.h[smallest]:\n",
        "\t\t\tsmallest = lc\n",
        "\n",
        "\t\tif rc < length and self.h[rc] <= self.h[smallest]:\n",
        "\t\t\tsmallest = rc\n",
        "\n",
        "\t\tif smallest != index:\n",
        "\t\t\t# Swaps the parent node with the smaller child\n",
        "\t\t\tself.h[smallest], self.h[index] = self.h[index], self.h[smallest]\n",
        "\n",
        "\t\t\t# Recursive call to compare next subtree\n",
        "\t\t\tself.moveDownHeapify(smallest)\n",
        "\n",
        "\tdef increaseItem(self, index, value):\n",
        "\t\t# Increase the value of 'index' to 'value'\n",
        "\n",
        "\t\tif value <= self.h[index]:\n",
        "\t\t\treturn\n",
        "\n",
        "\t\tself.h[index] = value\n",
        "\t\tself.moveDownHeapify(index)\n",
        "\n",
        "\n",
        "class OptimalMergePattern():\n",
        "\tdef __init__(self, n, items):\n",
        "\n",
        "\t\tself.n = n\n",
        "\t\tself.items = items\n",
        "\t\tself.heap = Heap()\n",
        "\n",
        "\tdef optimalMerge(self):\n",
        "\n",
        "\t\t# Corner cases if list has no more than 1 item\n",
        "\t\tif self.n <= 0:\n",
        "\t\t\treturn 0\n",
        "\n",
        "\t\tif self.n == 1:\n",
        "\t\t\treturn self.items[0]\n",
        "\n",
        "\t\t# Insert items into min heap\n",
        "\t\tfor _ in self.items:\n",
        "\t\t\tself.heap.addItem(_)\n",
        "\n",
        "\t\tcount = 0\n",
        "\t\twhile len(self.heap.h) != 1:\n",
        "\t\t\ttmp = self.heap.deleteItem()\n",
        "\t\t\tcount += (tmp + self.heap.h[0])\n",
        "\t\t\tself.heap.increaseItem(0, tmp + self.heap.h[0])\n",
        "\n",
        "\t\treturn count\n",
        "\n",
        "OMP = OptimalMergePattern(6, [2, 3, 4, 5, 6, 7])\n",
        "ans = OMP.optimalMerge()\n",
        "print(ans)\n",
        "\n"
      ]
    }
  ]
}